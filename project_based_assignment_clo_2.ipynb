{
  "cells": [
    {
      "cell_type": "markdown",
      "metadata": {
        "id": "view-in-github",
        "colab_type": "text"
      },
      "source": [
        "<a href=\"https://colab.research.google.com/github/turrud/machine-learning/blob/main/project_based_assignment_clo_2.ipynb\" target=\"_parent\"><img src=\"https://colab.research.google.com/assets/colab-badge.svg\" alt=\"Open In Colab\"/></a>"
      ]
    },
    {
      "cell_type": "markdown",
      "id": "0998ab93",
      "metadata": {
        "id": "0998ab93"
      },
      "source": [
        "# <center>Project-Based Assignment CLO-2</center>"
      ]
    },
    {
      "cell_type": "markdown",
      "id": "b9dd2c3d",
      "metadata": {
        "id": "b9dd2c3d"
      },
      "source": [
        "<b>Topik</b>\n",
        "Implementation of Supervised Learning on Regression Task\n",
        "\n",
        "<b>Anggota Kelompok</b>\n",
        "1. Fatur Rahman - 1301194122\n",
        "2. Nama - NIM"
      ]
    },
    {
      "cell_type": "markdown",
      "id": "f67c8e8d",
      "metadata": {
        "id": "f67c8e8d"
      },
      "source": [
        "#### Latar Belakang\n",
        "Silahkan double click cell ini dan tulis latar belakang!"
      ]
    },
    {
      "cell_type": "code",
      "execution_count": null,
      "id": "bd1c9727",
      "metadata": {
        "id": "bd1c9727"
      },
      "outputs": [],
      "source": [
        "# Data Preprocessing\n",
        "# Write your code here\n",
        "\n"
      ]
    },
    {
      "cell_type": "code",
      "execution_count": null,
      "id": "f7769541",
      "metadata": {
        "id": "f7769541"
      },
      "outputs": [],
      "source": [
        "# Exploration Data Analysis\n",
        "# Write your code here\n",
        "\n"
      ]
    },
    {
      "cell_type": "markdown",
      "id": "691b437e",
      "metadata": {
        "id": "691b437e"
      },
      "source": [
        "#### Ringkasan Metode\n",
        "Silahkan double click cell ini dan tulis ringkasan metode!"
      ]
    },
    {
      "cell_type": "code",
      "execution_count": null,
      "id": "348c59c4",
      "metadata": {
        "id": "348c59c4"
      },
      "outputs": [],
      "source": [
        "# Baseline Model\n",
        "# Write your code here\n",
        "\n"
      ]
    },
    {
      "cell_type": "code",
      "execution_count": null,
      "id": "27ae8626",
      "metadata": {
        "id": "27ae8626"
      },
      "outputs": [],
      "source": [
        "# Model Exploration (at least 3 scheme)\n",
        "# Write your code here\n",
        "\n"
      ]
    },
    {
      "cell_type": "code",
      "execution_count": null,
      "id": "db175b05",
      "metadata": {
        "id": "db175b05"
      },
      "outputs": [],
      "source": [
        "# Evaluation\n",
        "# Write your code here\n",
        "\n"
      ]
    },
    {
      "cell_type": "markdown",
      "id": "c5526cf7",
      "metadata": {
        "id": "c5526cf7"
      },
      "source": [
        "#### Hasil dan Analisis\n",
        "Silahkan double click cell ini dan tulis hasil dan analisis!"
      ]
    },
    {
      "cell_type": "markdown",
      "id": "8a255fe5",
      "metadata": {
        "id": "8a255fe5"
      },
      "source": [
        "#### Kesimpulan\n",
        "Silahkan double click cell ini dan tulis kesimpulan!"
      ]
    }
  ],
  "metadata": {
    "kernelspec": {
      "display_name": "Python 3 (ipykernel)",
      "language": "python",
      "name": "python3"
    },
    "language_info": {
      "codemirror_mode": {
        "name": "ipython",
        "version": 3
      },
      "file_extension": ".py",
      "mimetype": "text/x-python",
      "name": "python",
      "nbconvert_exporter": "python",
      "pygments_lexer": "ipython3",
      "version": "3.10.9"
    },
    "colab": {
      "provenance": [],
      "include_colab_link": true
    }
  },
  "nbformat": 4,
  "nbformat_minor": 5
}